{
 "cells": [
  {
   "cell_type": "markdown",
   "id": "2100f5b8-a846-49bb-966e-5292e5392b17",
   "metadata": {},
   "source": [
    "## DSCI100 Project - Heart Disease"
   ]
  },
  {
   "cell_type": "markdown",
   "id": "9cfddda4-e64d-4383-b811-a1c3612135b8",
   "metadata": {},
   "source": [
    "* Introduction"
   ]
  },
  {
   "cell_type": "markdown",
   "id": "60905257-6daf-4820-a889-6dd530709faf",
   "metadata": {},
   "source": [
    "* Preliminary Exploratory Data Analysis\n",
    "- Demonstrate that the dataset can be read from the web into R \n",
    "- Clean and wrangle your data into a tidy format\n",
    "- Using only training data, summarize the data in at least one table (this is exploratory data analysis). An example of a useful table could be one that reports the number of observations in each class, the means of the predictor variables you plan to use in your analysis and how many rows have missing data. \n",
    "- Using only training data, visualize the data with at least one plot relevant to the analysis you plan to do (this is exploratory data analysis). An example of a useful visualization could be one that compares the distributions of each of the predictor variables you plan to use in your analysis."
   ]
  },
  {
   "cell_type": "code",
   "execution_count": 1,
   "id": "72772826-3b88-4ec9-b9cb-4afda781e8cd",
   "metadata": {},
   "outputs": [
    {
     "name": "stderr",
     "output_type": "stream",
     "text": [
      "── \u001b[1mAttaching packages\u001b[22m ─────────────────────────────────────── tidyverse 1.3.1 ──\n",
      "\n",
      "\u001b[32m✔\u001b[39m \u001b[34mggplot2\u001b[39m 3.3.6     \u001b[32m✔\u001b[39m \u001b[34mpurrr  \u001b[39m 0.3.4\n",
      "\u001b[32m✔\u001b[39m \u001b[34mtibble \u001b[39m 3.1.7     \u001b[32m✔\u001b[39m \u001b[34mdplyr  \u001b[39m 1.0.9\n",
      "\u001b[32m✔\u001b[39m \u001b[34mtidyr  \u001b[39m 1.2.0     \u001b[32m✔\u001b[39m \u001b[34mstringr\u001b[39m 1.4.0\n",
      "\u001b[32m✔\u001b[39m \u001b[34mreadr  \u001b[39m 2.1.2     \u001b[32m✔\u001b[39m \u001b[34mforcats\u001b[39m 0.5.1\n",
      "\n",
      "── \u001b[1mConflicts\u001b[22m ────────────────────────────────────────── tidyverse_conflicts() ──\n",
      "\u001b[31m✖\u001b[39m \u001b[34mdplyr\u001b[39m::\u001b[32mfilter()\u001b[39m masks \u001b[34mstats\u001b[39m::filter()\n",
      "\u001b[31m✖\u001b[39m \u001b[34mdplyr\u001b[39m::\u001b[32mlag()\u001b[39m    masks \u001b[34mstats\u001b[39m::lag()\n",
      "\n",
      "── \u001b[1mAttaching packages\u001b[22m ────────────────────────────────────── tidymodels 1.0.0 ──\n",
      "\n",
      "\u001b[32m✔\u001b[39m \u001b[34mbroom       \u001b[39m 1.0.0     \u001b[32m✔\u001b[39m \u001b[34mrsample     \u001b[39m 1.0.0\n",
      "\u001b[32m✔\u001b[39m \u001b[34mdials       \u001b[39m 1.0.0     \u001b[32m✔\u001b[39m \u001b[34mtune        \u001b[39m 1.0.0\n",
      "\u001b[32m✔\u001b[39m \u001b[34minfer       \u001b[39m 1.0.2     \u001b[32m✔\u001b[39m \u001b[34mworkflows   \u001b[39m 1.0.0\n",
      "\u001b[32m✔\u001b[39m \u001b[34mmodeldata   \u001b[39m 1.0.0     \u001b[32m✔\u001b[39m \u001b[34mworkflowsets\u001b[39m 1.0.0\n",
      "\u001b[32m✔\u001b[39m \u001b[34mparsnip     \u001b[39m 1.0.0     \u001b[32m✔\u001b[39m \u001b[34myardstick   \u001b[39m 1.0.0\n",
      "\u001b[32m✔\u001b[39m \u001b[34mrecipes     \u001b[39m 1.0.1     \n",
      "\n",
      "── \u001b[1mConflicts\u001b[22m ───────────────────────────────────────── tidymodels_conflicts() ──\n",
      "\u001b[31m✖\u001b[39m \u001b[34mscales\u001b[39m::\u001b[32mdiscard()\u001b[39m masks \u001b[34mpurrr\u001b[39m::discard()\n",
      "\u001b[31m✖\u001b[39m \u001b[34mdplyr\u001b[39m::\u001b[32mfilter()\u001b[39m   masks \u001b[34mstats\u001b[39m::filter()\n",
      "\u001b[31m✖\u001b[39m \u001b[34mrecipes\u001b[39m::\u001b[32mfixed()\u001b[39m  masks \u001b[34mstringr\u001b[39m::fixed()\n",
      "\u001b[31m✖\u001b[39m \u001b[34mdplyr\u001b[39m::\u001b[32mlag()\u001b[39m      masks \u001b[34mstats\u001b[39m::lag()\n",
      "\u001b[31m✖\u001b[39m \u001b[34myardstick\u001b[39m::\u001b[32mspec()\u001b[39m masks \u001b[34mreadr\u001b[39m::spec()\n",
      "\u001b[31m✖\u001b[39m \u001b[34mrecipes\u001b[39m::\u001b[32mstep()\u001b[39m   masks \u001b[34mstats\u001b[39m::step()\n",
      "\u001b[34m•\u001b[39m Learn how to get started at \u001b[32mhttps://www.tidymodels.org/start/\u001b[39m\n",
      "\n",
      "\n",
      "Attaching package: ‘rvest’\n",
      "\n",
      "\n",
      "The following object is masked from ‘package:readr’:\n",
      "\n",
      "    guess_encoding\n",
      "\n",
      "\n"
     ]
    }
   ],
   "source": [
    "# Load Packages\n",
    "library(tidyverse)\n",
    "library(tidymodels)\n",
    "library(repr)\n",
    "library(rvest)\n",
    "library(stringr)\n",
    "options(repr.matrix.max.rows = 6)"
   ]
  },
  {
   "cell_type": "code",
   "execution_count": 4,
   "id": "34c8c8a7-9336-4c84-9943-16d7df9c8817",
   "metadata": {},
   "outputs": [
    {
     "name": "stderr",
     "output_type": "stream",
     "text": [
      "\u001b[1mRows: \u001b[22m\u001b[34m303\u001b[39m \u001b[1mColumns: \u001b[22m\u001b[34m14\u001b[39m\n",
      "\u001b[36m──\u001b[39m \u001b[1mColumn specification\u001b[22m \u001b[36m────────────────────────────────────────────────────────\u001b[39m\n",
      "\u001b[1mDelimiter:\u001b[22m \",\"\n",
      "\u001b[31mchr\u001b[39m  (2): X12, X13\n",
      "\u001b[32mdbl\u001b[39m (12): X1, X2, X3, X4, X5, X6, X7, X8, X9, X10, X11, X14\n",
      "\n",
      "\u001b[36mℹ\u001b[39m Use `spec()` to retrieve the full column specification for this data.\n",
      "\u001b[36mℹ\u001b[39m Specify the column types or set `show_col_types = FALSE` to quiet this message.\n"
     ]
    },
    {
     "data": {
      "text/html": [
       "<table class=\"dataframe\">\n",
       "<caption>A tibble: 303 × 3</caption>\n",
       "<thead>\n",
       "\t<tr><th scope=col>Age</th><th scope=col>Chest_Pain_Type</th><th scope=col>Diagnosis</th></tr>\n",
       "\t<tr><th scope=col>&lt;dbl&gt;</th><th scope=col>&lt;dbl&gt;</th><th scope=col>&lt;fct&gt;</th></tr>\n",
       "</thead>\n",
       "<tbody>\n",
       "\t<tr><td>63</td><td>1</td><td>0</td></tr>\n",
       "\t<tr><td>67</td><td>4</td><td>2</td></tr>\n",
       "\t<tr><td>67</td><td>4</td><td>1</td></tr>\n",
       "\t<tr><td>⋮</td><td>⋮</td><td>⋮</td></tr>\n",
       "\t<tr><td>57</td><td>4</td><td>3</td></tr>\n",
       "\t<tr><td>57</td><td>2</td><td>1</td></tr>\n",
       "\t<tr><td>38</td><td>3</td><td>0</td></tr>\n",
       "</tbody>\n",
       "</table>\n"
      ],
      "text/latex": [
       "A tibble: 303 × 3\n",
       "\\begin{tabular}{lll}\n",
       " Age & Chest\\_Pain\\_Type & Diagnosis\\\\\n",
       " <dbl> & <dbl> & <fct>\\\\\n",
       "\\hline\n",
       "\t 63 & 1 & 0\\\\\n",
       "\t 67 & 4 & 2\\\\\n",
       "\t 67 & 4 & 1\\\\\n",
       "\t ⋮ & ⋮ & ⋮\\\\\n",
       "\t 57 & 4 & 3\\\\\n",
       "\t 57 & 2 & 1\\\\\n",
       "\t 38 & 3 & 0\\\\\n",
       "\\end{tabular}\n"
      ],
      "text/markdown": [
       "\n",
       "A tibble: 303 × 3\n",
       "\n",
       "| Age &lt;dbl&gt; | Chest_Pain_Type &lt;dbl&gt; | Diagnosis &lt;fct&gt; |\n",
       "|---|---|---|\n",
       "| 63 | 1 | 0 |\n",
       "| 67 | 4 | 2 |\n",
       "| 67 | 4 | 1 |\n",
       "| ⋮ | ⋮ | ⋮ |\n",
       "| 57 | 4 | 3 |\n",
       "| 57 | 2 | 1 |\n",
       "| 38 | 3 | 0 |\n",
       "\n"
      ],
      "text/plain": [
       "    Age Chest_Pain_Type Diagnosis\n",
       "1   63  1               0        \n",
       "2   67  4               2        \n",
       "3   67  4               1        \n",
       "⋮   ⋮   ⋮               ⋮        \n",
       "301 57  4               3        \n",
       "302 57  2               1        \n",
       "303 38  3               0        "
      ]
     },
     "metadata": {},
     "output_type": "display_data"
    }
   ],
   "source": [
    "heart_disease_download <- download.file(\"https://archive.ics.uci.edu/ml/machine-learning-databases/heart-disease/processed.cleveland.data\",\n",
    "                                        \"heart_disease.csv\")\n",
    "heart_disease_original <- read_csv(\"heart_disease.csv\", col_names = FALSE)\n",
    "\n",
    "heart_disease_tidy <- rename(heart_disease_original,\n",
    "                             Age = X1,\n",
    "                             Sex = X2,\n",
    "                             Chest_Pain_Type = X3,\n",
    "                             Resting_Blood_Pressue = X4,\n",
    "                             Cholestoral = X5,\n",
    "                             Fasting_Blood_Sugar = X6,\n",
    "                             Resting_Electrocardiographic_Result = X7,\n",
    "                             Max_Heart_Rate = X8,\n",
    "                             Excercise_Induced_Angina = X9,\n",
    "                             Oldpeak = X10,\n",
    "                             Slope = X11,\n",
    "                             Major_Vessel_Colour = X12,\n",
    "                             Thal = X13,\n",
    "                             Diagnosis = X14) |>\n",
    "                        select(Age, Chest_Pain_Type, Diagnosis) |>\n",
    "                        mutate(Diagnosis = as_factor(Diagnosis))\n",
    "                          \n",
    "heart_disease_tidy"
   ]
  },
  {
   "cell_type": "code",
   "execution_count": 4,
   "id": "371104df-ec0b-47a6-be79-115e8d2e5a0a",
   "metadata": {},
   "outputs": [
    {
     "name": "stderr",
     "output_type": "stream",
     "text": [
      "\u001b[1mRows: \u001b[22m\u001b[34m303\u001b[39m \u001b[1mColumns: \u001b[22m\u001b[34m14\u001b[39m\n",
      "\u001b[36m──\u001b[39m \u001b[1mColumn specification\u001b[22m \u001b[36m────────────────────────────────────────────────────────\u001b[39m\n",
      "\u001b[1mDelimiter:\u001b[22m \",\"\n",
      "\u001b[31mchr\u001b[39m  (2): X12, X13\n",
      "\u001b[32mdbl\u001b[39m (12): X1, X2, X3, X4, X5, X6, X7, X8, X9, X10, X11, X14\n",
      "\n",
      "\u001b[36mℹ\u001b[39m Use `spec()` to retrieve the full column specification for this data.\n",
      "\u001b[36mℹ\u001b[39m Specify the column types or set `show_col_types = FALSE` to quiet this message.\n"
     ]
    },
    {
     "data": {
      "text/html": [
       "<table class=\"dataframe\">\n",
       "<caption>A spec_tbl_df: 303 × 14</caption>\n",
       "<thead>\n",
       "\t<tr><th scope=col>X1</th><th scope=col>X2</th><th scope=col>X3</th><th scope=col>X4</th><th scope=col>X5</th><th scope=col>X6</th><th scope=col>X7</th><th scope=col>X8</th><th scope=col>X9</th><th scope=col>X10</th><th scope=col>X11</th><th scope=col>X12</th><th scope=col>X13</th><th scope=col>X14</th></tr>\n",
       "\t<tr><th scope=col>&lt;dbl&gt;</th><th scope=col>&lt;dbl&gt;</th><th scope=col>&lt;dbl&gt;</th><th scope=col>&lt;dbl&gt;</th><th scope=col>&lt;dbl&gt;</th><th scope=col>&lt;dbl&gt;</th><th scope=col>&lt;dbl&gt;</th><th scope=col>&lt;dbl&gt;</th><th scope=col>&lt;dbl&gt;</th><th scope=col>&lt;dbl&gt;</th><th scope=col>&lt;dbl&gt;</th><th scope=col>&lt;chr&gt;</th><th scope=col>&lt;chr&gt;</th><th scope=col>&lt;dbl&gt;</th></tr>\n",
       "</thead>\n",
       "<tbody>\n",
       "\t<tr><td>63</td><td>1</td><td>1</td><td>145</td><td>233</td><td>1</td><td>2</td><td>150</td><td>0</td><td>2.3</td><td>3</td><td>0.0</td><td>6.0</td><td>0</td></tr>\n",
       "\t<tr><td>67</td><td>1</td><td>4</td><td>160</td><td>286</td><td>0</td><td>2</td><td>108</td><td>1</td><td>1.5</td><td>2</td><td>3.0</td><td>3.0</td><td>2</td></tr>\n",
       "\t<tr><td>67</td><td>1</td><td>4</td><td>120</td><td>229</td><td>0</td><td>2</td><td>129</td><td>1</td><td>2.6</td><td>2</td><td>2.0</td><td>7.0</td><td>1</td></tr>\n",
       "\t<tr><td>⋮</td><td>⋮</td><td>⋮</td><td>⋮</td><td>⋮</td><td>⋮</td><td>⋮</td><td>⋮</td><td>⋮</td><td>⋮</td><td>⋮</td><td>⋮</td><td>⋮</td><td>⋮</td></tr>\n",
       "\t<tr><td>57</td><td>1</td><td>4</td><td>130</td><td>131</td><td>0</td><td>0</td><td>115</td><td>1</td><td>1.2</td><td>2</td><td>1.0</td><td>7.0</td><td>3</td></tr>\n",
       "\t<tr><td>57</td><td>0</td><td>2</td><td>130</td><td>236</td><td>0</td><td>2</td><td>174</td><td>0</td><td>0.0</td><td>2</td><td>1.0</td><td>3.0</td><td>1</td></tr>\n",
       "\t<tr><td>38</td><td>1</td><td>3</td><td>138</td><td>175</td><td>0</td><td>0</td><td>173</td><td>0</td><td>0.0</td><td>1</td><td>?  </td><td>3.0</td><td>0</td></tr>\n",
       "</tbody>\n",
       "</table>\n"
      ],
      "text/latex": [
       "A spec\\_tbl\\_df: 303 × 14\n",
       "\\begin{tabular}{llllllllllllll}\n",
       " X1 & X2 & X3 & X4 & X5 & X6 & X7 & X8 & X9 & X10 & X11 & X12 & X13 & X14\\\\\n",
       " <dbl> & <dbl> & <dbl> & <dbl> & <dbl> & <dbl> & <dbl> & <dbl> & <dbl> & <dbl> & <dbl> & <chr> & <chr> & <dbl>\\\\\n",
       "\\hline\n",
       "\t 63 & 1 & 1 & 145 & 233 & 1 & 2 & 150 & 0 & 2.3 & 3 & 0.0 & 6.0 & 0\\\\\n",
       "\t 67 & 1 & 4 & 160 & 286 & 0 & 2 & 108 & 1 & 1.5 & 2 & 3.0 & 3.0 & 2\\\\\n",
       "\t 67 & 1 & 4 & 120 & 229 & 0 & 2 & 129 & 1 & 2.6 & 2 & 2.0 & 7.0 & 1\\\\\n",
       "\t ⋮ & ⋮ & ⋮ & ⋮ & ⋮ & ⋮ & ⋮ & ⋮ & ⋮ & ⋮ & ⋮ & ⋮ & ⋮ & ⋮\\\\\n",
       "\t 57 & 1 & 4 & 130 & 131 & 0 & 0 & 115 & 1 & 1.2 & 2 & 1.0 & 7.0 & 3\\\\\n",
       "\t 57 & 0 & 2 & 130 & 236 & 0 & 2 & 174 & 0 & 0.0 & 2 & 1.0 & 3.0 & 1\\\\\n",
       "\t 38 & 1 & 3 & 138 & 175 & 0 & 0 & 173 & 0 & 0.0 & 1 & ?   & 3.0 & 0\\\\\n",
       "\\end{tabular}\n"
      ],
      "text/markdown": [
       "\n",
       "A spec_tbl_df: 303 × 14\n",
       "\n",
       "| X1 &lt;dbl&gt; | X2 &lt;dbl&gt; | X3 &lt;dbl&gt; | X4 &lt;dbl&gt; | X5 &lt;dbl&gt; | X6 &lt;dbl&gt; | X7 &lt;dbl&gt; | X8 &lt;dbl&gt; | X9 &lt;dbl&gt; | X10 &lt;dbl&gt; | X11 &lt;dbl&gt; | X12 &lt;chr&gt; | X13 &lt;chr&gt; | X14 &lt;dbl&gt; |\n",
       "|---|---|---|---|---|---|---|---|---|---|---|---|---|---|\n",
       "| 63 | 1 | 1 | 145 | 233 | 1 | 2 | 150 | 0 | 2.3 | 3 | 0.0 | 6.0 | 0 |\n",
       "| 67 | 1 | 4 | 160 | 286 | 0 | 2 | 108 | 1 | 1.5 | 2 | 3.0 | 3.0 | 2 |\n",
       "| 67 | 1 | 4 | 120 | 229 | 0 | 2 | 129 | 1 | 2.6 | 2 | 2.0 | 7.0 | 1 |\n",
       "| ⋮ | ⋮ | ⋮ | ⋮ | ⋮ | ⋮ | ⋮ | ⋮ | ⋮ | ⋮ | ⋮ | ⋮ | ⋮ | ⋮ |\n",
       "| 57 | 1 | 4 | 130 | 131 | 0 | 0 | 115 | 1 | 1.2 | 2 | 1.0 | 7.0 | 3 |\n",
       "| 57 | 0 | 2 | 130 | 236 | 0 | 2 | 174 | 0 | 0.0 | 2 | 1.0 | 3.0 | 1 |\n",
       "| 38 | 1 | 3 | 138 | 175 | 0 | 0 | 173 | 0 | 0.0 | 1 | ?   | 3.0 | 0 |\n",
       "\n"
      ],
      "text/plain": [
       "    X1 X2 X3 X4  X5  X6 X7 X8  X9 X10 X11 X12 X13 X14\n",
       "1   63 1  1  145 233 1  2  150 0  2.3 3   0.0 6.0 0  \n",
       "2   67 1  4  160 286 0  2  108 1  1.5 2   3.0 3.0 2  \n",
       "3   67 1  4  120 229 0  2  129 1  2.6 2   2.0 7.0 1  \n",
       "⋮   ⋮  ⋮  ⋮  ⋮   ⋮   ⋮  ⋮  ⋮   ⋮  ⋮   ⋮   ⋮   ⋮   ⋮  \n",
       "301 57 1  4  130 131 0  0  115 1  1.2 2   1.0 7.0 3  \n",
       "302 57 0  2  130 236 0  2  174 0  0.0 2   1.0 3.0 1  \n",
       "303 38 1  3  138 175 0  0  173 0  0.0 1   ?   3.0 0  "
      ]
     },
     "metadata": {},
     "output_type": "display_data"
    },
    {
     "data": {
      "text/html": [
       "<table class=\"dataframe\">\n",
       "<caption>A tibble: 303 × 3</caption>\n",
       "<thead>\n",
       "\t<tr><th scope=col>Age</th><th scope=col>Chest_Pain_Type</th><th scope=col>Diagnosis</th></tr>\n",
       "\t<tr><th scope=col>&lt;dbl&gt;</th><th scope=col>&lt;dbl&gt;</th><th scope=col>&lt;fct&gt;</th></tr>\n",
       "</thead>\n",
       "<tbody>\n",
       "\t<tr><td>63</td><td>1</td><td>0</td></tr>\n",
       "\t<tr><td>67</td><td>4</td><td>2</td></tr>\n",
       "\t<tr><td>67</td><td>4</td><td>1</td></tr>\n",
       "\t<tr><td>⋮</td><td>⋮</td><td>⋮</td></tr>\n",
       "\t<tr><td>57</td><td>4</td><td>3</td></tr>\n",
       "\t<tr><td>57</td><td>2</td><td>1</td></tr>\n",
       "\t<tr><td>38</td><td>3</td><td>0</td></tr>\n",
       "</tbody>\n",
       "</table>\n"
      ],
      "text/latex": [
       "A tibble: 303 × 3\n",
       "\\begin{tabular}{lll}\n",
       " Age & Chest\\_Pain\\_Type & Diagnosis\\\\\n",
       " <dbl> & <dbl> & <fct>\\\\\n",
       "\\hline\n",
       "\t 63 & 1 & 0\\\\\n",
       "\t 67 & 4 & 2\\\\\n",
       "\t 67 & 4 & 1\\\\\n",
       "\t ⋮ & ⋮ & ⋮\\\\\n",
       "\t 57 & 4 & 3\\\\\n",
       "\t 57 & 2 & 1\\\\\n",
       "\t 38 & 3 & 0\\\\\n",
       "\\end{tabular}\n"
      ],
      "text/markdown": [
       "\n",
       "A tibble: 303 × 3\n",
       "\n",
       "| Age &lt;dbl&gt; | Chest_Pain_Type &lt;dbl&gt; | Diagnosis &lt;fct&gt; |\n",
       "|---|---|---|\n",
       "| 63 | 1 | 0 |\n",
       "| 67 | 4 | 2 |\n",
       "| 67 | 4 | 1 |\n",
       "| ⋮ | ⋮ | ⋮ |\n",
       "| 57 | 4 | 3 |\n",
       "| 57 | 2 | 1 |\n",
       "| 38 | 3 | 0 |\n",
       "\n"
      ],
      "text/plain": [
       "    Age Chest_Pain_Type Diagnosis\n",
       "1   63  1               0        \n",
       "2   67  4               2        \n",
       "3   67  4               1        \n",
       "⋮   ⋮   ⋮               ⋮        \n",
       "301 57  4               3        \n",
       "302 57  2               1        \n",
       "303 38  3               0        "
      ]
     },
     "metadata": {},
     "output_type": "display_data"
    },
    {
     "data": {
      "text/html": [
       "<table class=\"dataframe\">\n",
       "<caption>A tibble: 5 × 3</caption>\n",
       "<thead>\n",
       "\t<tr><th scope=col>Diagnosis</th><th scope=col>count</th><th scope=col>percentage</th></tr>\n",
       "\t<tr><th scope=col>&lt;fct&gt;</th><th scope=col>&lt;int&gt;</th><th scope=col>&lt;dbl&gt;</th></tr>\n",
       "</thead>\n",
       "<tbody>\n",
       "\t<tr><td>0</td><td>124</td><td>54.867257</td></tr>\n",
       "\t<tr><td>1</td><td> 41</td><td>18.141593</td></tr>\n",
       "\t<tr><td>2</td><td> 25</td><td>11.061947</td></tr>\n",
       "\t<tr><td>3</td><td> 26</td><td>11.504425</td></tr>\n",
       "\t<tr><td>4</td><td> 10</td><td> 4.424779</td></tr>\n",
       "</tbody>\n",
       "</table>\n"
      ],
      "text/latex": [
       "A tibble: 5 × 3\n",
       "\\begin{tabular}{lll}\n",
       " Diagnosis & count & percentage\\\\\n",
       " <fct> & <int> & <dbl>\\\\\n",
       "\\hline\n",
       "\t 0 & 124 & 54.867257\\\\\n",
       "\t 1 &  41 & 18.141593\\\\\n",
       "\t 2 &  25 & 11.061947\\\\\n",
       "\t 3 &  26 & 11.504425\\\\\n",
       "\t 4 &  10 &  4.424779\\\\\n",
       "\\end{tabular}\n"
      ],
      "text/markdown": [
       "\n",
       "A tibble: 5 × 3\n",
       "\n",
       "| Diagnosis &lt;fct&gt; | count &lt;int&gt; | percentage &lt;dbl&gt; |\n",
       "|---|---|---|\n",
       "| 0 | 124 | 54.867257 |\n",
       "| 1 |  41 | 18.141593 |\n",
       "| 2 |  25 | 11.061947 |\n",
       "| 3 |  26 | 11.504425 |\n",
       "| 4 |  10 |  4.424779 |\n",
       "\n"
      ],
      "text/plain": [
       "  Diagnosis count percentage\n",
       "1 0         124   54.867257 \n",
       "2 1          41   18.141593 \n",
       "3 2          25   11.061947 \n",
       "4 3          26   11.504425 \n",
       "5 4          10    4.424779 "
      ]
     },
     "metadata": {},
     "output_type": "display_data"
    },
    {
     "data": {
      "image/png": "[encoded data removed]",
      "text/plain": [
       "plot without title"
      ]
     },
     "metadata": {
      "image/png": {
       "height": 420,
       "width": 420
      }
     },
     "output_type": "display_data"
    }
   ],
   "source": [
    "# Set the Seed\n",
    "set.seed(1)\n",
    "\n",
    "# Load data\n",
    "heart_disease_download <- download.file(\"https://archive.ics.uci.edu/ml/machine-learning-databases/heart-disease/processed.cleveland.data\",\n",
    "                                        \"heart_disease.csv\")\n",
    "heart_disease_original <- read_csv(\"heart_disease.csv\", col_names = FALSE)\n",
    "\n",
    "# Clean and Wrangle Data into a Tidy Format\n",
    "heart_disease_tidy <- rename(heart_disease_original,\n",
    "                             Age = X1,\n",
    "                             Sex = X2,\n",
    "                             Chest_Pain_Type = X3,\n",
    "                             Resting_Blood_Pressue = X4,\n",
    "                             Cholestoral = X5,\n",
    "                             Fasting_Blood_Sugar = X6,\n",
    "                             Resting_Electrocardiographic_Result = X7,\n",
    "                             Max_Heart_Rate = X8,\n",
    "                             Excercise_Induced_Angina = X9,\n",
    "                             Oldpeak = X10,\n",
    "                             Slope = X11,\n",
    "                             Major_Vessel_Colour = X12,\n",
    "                             Thal = X13,\n",
    "                             Diagnosis = X14) |>\n",
    "                             select(Age, Chest_Pain_Type, Diagnosis) |>\n",
    "                             mutate(Diagnosis = as_factor(Diagnosis))\n",
    "                          \n",
    "heart_disease_tidy\n",
    "        \n",
    "# Training and Testing Data Set Split\n",
    "heart_disease_split <- initial_split(heart_disease_tidy, prop = 0.75, strata = Diagnosis)\n",
    "heart_disease_training <- training(heart_disease_split)\n",
    "heart_disease_testing <- testing(heart_disease_split)\n",
    "\n",
    "# Exploratory Data Analysis (Table)\n",
    "num_obs <- nrow(heart_disease_training)\n",
    "heart_disease_exp_table <- heart_disease_training |>\n",
    "                           group_by(Diagnosis) |>\n",
    "                           summarize(count = n(), percentage = n() / num_obs * 100)\n",
    "heart_disease_exp_table\n",
    "\n",
    "# Exploratory Data Analysis (Visualization)\n",
    "heart_disease_exp_plot <- heart_disease_training |>\n",
    "                          ggplot(aes(x = Age, y = Chest_Pain_Type, color = Diagnosis)) +\n",
    "                          geom_point(alpha = 0.5) +\n",
    "                          labs(color = \"Diagnosis\") +\n",
    "                          theme(text = element_text(size = 12))\n",
    "heart_disease_exp_plot"
   ]
  },
  {
   "cell_type": "code",
   "execution_count": null,
   "id": "71c0211c-276f-428d-b612-0aa541413b3c",
   "metadata": {},
   "outputs": [],
   "source": []
  },
  {
   "cell_type": "markdown",
   "id": "1989cbe3-505f-49fc-bb56-fac7133ecabc",
   "metadata": {},
   "source": [
    "* Methods"
   ]
  },
  {
   "cell_type": "markdown",
   "id": "7e2be0a2-7621-4b7c-a2ca-ce914cf483cb",
   "metadata": {},
   "source": [
    "* Expected Outcomes and Significance"
   ]
  },
  {
   "cell_type": "code",
   "execution_count": null,
   "id": "b4a028c6-0540-4748-9507-5609292b656a",
   "metadata": {},
   "outputs": [],
   "source": []
  }
 ],
 "metadata": {
  "kernelspec": {
   "display_name": "R",
   "language": "R",
   "name": "ir"
  },
  "language_info": {
   "codemirror_mode": "r",
   "file_extension": ".r",
   "mimetype": "text/x-r-source",
   "name": "R",
   "pygments_lexer": "r",
   "version": "4.1.3"
  }
 },
 "nbformat": 4,
 "nbformat_minor": 5
}

{
 "cells": [
  {
   "cell_type": "markdown",
   "id": "2100f5b8-a846-49bb-966e-5292e5392b17",
   "metadata": {},
   "source": [
    "## DSCI100 Project - Heart Disease"
   ]
  },
  {
   "cell_type": "markdown",
   "id": "9cfddda4-e64d-4383-b811-a1c3612135b8",
   "metadata": {},
   "source": [
    "* Introduction"
   ]
  },
  {
   "cell_type": "markdown",
   "id": "60905257-6daf-4820-a889-6dd530709faf",
   "metadata": {},
   "source": [
    "* Preliminary Exploratory Data Analysis\n",
    "- Demonstrate that the dataset can be read from the web into R \n",
    "- Clean and wrangle your data into a tidy format\n",
    "- Using only training data, summarize the data in at least one table (this is exploratory data analysis). An example of a useful table could be one that reports the number of observations in each class, the means of the predictor variables you plan to use in your analysis and how many rows have missing data. \n",
    "- Using only training data, visualize the data with at least one plot relevant to the analysis you plan to do (this is exploratory data analysis). An example of a useful visualization could be one that compares the distributions of each of the predictor variables you plan to use in your analysis."
   ]
  },
  {
   "cell_type": "code",
   "execution_count": 2,
   "id": "72772826-3b88-4ec9-b9cb-4afda781e8cd",
   "metadata": {},
   "outputs": [
    {
     "ename": "NameError",
     "evalue": "name 'library' is not defined",
     "output_type": "error",
     "traceback": [
      "\u001b[0;31m---------------------------------------------------------------------------\u001b[0m",
      "\u001b[0;31mNameError\u001b[0m                                 Traceback (most recent call last)",
      "Input \u001b[0;32mIn [2]\u001b[0m, in \u001b[0;36m<cell line: 2>\u001b[0;34m()\u001b[0m\n\u001b[1;32m      1\u001b[0m \u001b[38;5;66;03m# Load Packages\u001b[39;00m\n\u001b[0;32m----> 2\u001b[0m \u001b[43mlibrary\u001b[49m(rvest)\n\u001b[1;32m      3\u001b[0m library(tidyverse)\n\u001b[1;32m      4\u001b[0m library(\u001b[38;5;28mrepr\u001b[39m)\n",
      "\u001b[0;31mNameError\u001b[0m: name 'library' is not defined"
     ]
    }
   ],
   "source": [
    "# Load Packages\n",
    "library(rvest)\n",
    "library(tidyverse)\n",
    "library(repr)\n",
    "library(tidymodels)\n",
    "library(stringr)"
   ]
  },
  {
   "cell_type": "code",
   "execution_count": 11,
   "id": "34c8c8a7-9336-4c84-9943-16d7df9c8817",
   "metadata": {},
   "outputs": [
    {
     "ename": "NameError",
     "evalue": "name 'dataset_test' is not defined",
     "output_type": "error",
     "traceback": [
      "\u001b[0;31m---------------------------------------------------------------------------\u001b[0m",
      "\u001b[0;31mNameError\u001b[0m                                 Traceback (most recent call last)",
      "Input \u001b[0;32mIn [11]\u001b[0m, in \u001b[0;36m<cell line: 1>\u001b[0;34m()\u001b[0m\n\u001b[0;32m----> 1\u001b[0m \u001b[43mdataset_test\u001b[49m \u001b[38;5;241m<\u001b[39m\u001b[38;5;241m-\u001b[39m download\u001b[38;5;241m.\u001b[39mfile(\u001b[38;5;124m\"\u001b[39m\u001b[38;5;124mhttps://archive.ics.uci.edu/ml/machine-learning-databases/heart-disease/processed.cleveland.data\u001b[39m\u001b[38;5;124m\"\u001b[39m,\n\u001b[1;32m      2\u001b[0m                                         \u001b[38;5;124m\"\u001b[39m\u001b[38;5;124mheart_disease.csv\u001b[39m\u001b[38;5;124m\"\u001b[39m)\n\u001b[1;32m      3\u001b[0m heart_disease_original \u001b[38;5;241m<\u001b[39m\u001b[38;5;241m-\u001b[39m read_csv(\u001b[38;5;124m\"\u001b[39m\u001b[38;5;124mheart_disease.csv\u001b[39m\u001b[38;5;124m\"\u001b[39m, col_names \u001b[38;5;241m==\u001b[39m FALSE)\n\u001b[1;32m      4\u001b[0m heart_disease_original\n",
      "\u001b[0;31mNameError\u001b[0m: name 'dataset_test' is not defined"
     ]
    }
   ],
   "source": [
    "heart_disease_download <- download.file(\"https://archive.ics.uci.edu/ml/machine-learning-databases/heart-disease/processed.cleveland.data\",\n",
    "                                        \"heart_disease.csv\")\n",
    "heart_disease_original <- read_csv(\"heart_disease.csv\", col_names == FALSE)\n",
    "heart_disease_original"
   ]
  },
  {
   "cell_type": "code",
   "execution_count": null,
   "id": "371104df-ec0b-47a6-be79-115e8d2e5a0a",
   "metadata": {},
   "outputs": [],
   "source": [
    "# Set the Seed\n",
    "set.seed(1)\n",
    "\n",
    "# Load data\n",
    "heart_disease_download <- download.file(\"https://archive.ics.uci.edu/ml/machine-learning-databases/heart-disease/processed.cleveland.data\",\n",
    "                                        \"heart_disease.csv\")\n",
    "heart_disease_original <- read_csv(\"heart_disease.csv\", col_names = FALSE)\n",
    "heart_disease_original\n",
    "\n",
    "# Clean and Wrangle Data into a Tidy Format\n",
    "heart_disease_tidy <- select() |>\n",
    "                      mutate(= as_factor())\n",
    "        \n",
    "# Training and Testing Data Set Split\n",
    "heart_disease_split <- initial_split(heart_disease_tidy, prop = 0.75, strata = num)\n",
    "heart_disease_training <- training(heart_disease_split)\n",
    "heart_disease_testing <- testing(heart_disease_split)\n",
    "\n",
    "# Exploratory Data Analysis (Table)\n",
    "num_obs <- nrow(heart_disease_training)\n",
    "heart_disease_exp_table <- heart_disease_training |>\n",
    "                           group_by(num) |>\n",
    "                           summarize(count = n(), percentage = n() / num_obs * 100)\n",
    "heart_disease_exp_table\n",
    "\n",
    "# Exploratory Data Analysis (Visualization)\n",
    "heart_disease_exp_plot <- heart_disease_training |>\n",
    "                          ggplot(aes(x = age, y = cp, color = num)) +\n",
    "                          geom_point(alpha = 0.5) +\n",
    "                          labs(color = \"Diagnosis\") +\n",
    "                          scale_color_manual(labels = c(\"Value 1: typical angina\", \"Value 2: atypical angina\", \"Value 3: non-anginal pain\", \"Value 4: asymptomatic\"),\n",
    "                                             values = c(\"orange2\", \"steelblue2\", \"pink2\", \"purple2\")) +\n",
    "                          theme(text = element_text(size = 12))\n",
    "heart_disease_exp_plot"
   ]
  },
  {
   "cell_type": "code",
   "execution_count": null,
   "id": "71c0211c-276f-428d-b612-0aa541413b3c",
   "metadata": {},
   "outputs": [],
   "source": []
  },
  {
   "cell_type": "markdown",
   "id": "1989cbe3-505f-49fc-bb56-fac7133ecabc",
   "metadata": {},
   "source": [
    "* Methods"
   ]
  },
  {
   "cell_type": "markdown",
   "id": "7e2be0a2-7621-4b7c-a2ca-ce914cf483cb",
   "metadata": {},
   "source": [
    "* Expected Outcomes and Significance"
   ]
  },
  {
   "cell_type": "code",
   "execution_count": null,
   "id": "b4a028c6-0540-4748-9507-5609292b656a",
   "metadata": {},
   "outputs": [],
   "source": []
  }
 ],
 "metadata": {
  "kernelspec": {
   "display_name": "Python 3 (ipykernel)",
   "language": "python",
   "name": "python3"
  },
  "language_info": {
   "codemirror_mode": {
    "name": "ipython",
    "version": 3
   },
   "file_extension": ".py",
   "mimetype": "text/x-python",
   "name": "python",
   "nbconvert_exporter": "python",
   "pygments_lexer": "ipython3",
   "version": "3.10.5"
  }
 },
 "nbformat": 4,
 "nbformat_minor": 5
}
